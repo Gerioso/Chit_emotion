{
 "cells": [
  {
   "cell_type": "code",
   "execution_count": 1,
   "id": "bd1e94b3",
   "metadata": {},
   "outputs": [],
   "source": [
    "import requests\n",
    "from bs4 import BeautifulSoup\n",
    "import numpy as np\n",
    "import time\n",
    "import os\n",
    "\n",
    "def load_data(url):\n",
    "    r = requests.get(url, headers = headers) # отправка http запроса\n",
    "    soup = BeautifulSoup(r.text, 'html.parser')# создание html парсера\n",
    "    reviews = soup.find_all(class_='_reachbanner_')# сохранение только отзывов\n",
    "    reviews_clean = []\n",
    "    for review in reviews:# очистка от лишней html разметки\n",
    "        reviews_clean.append(review.find_all(text=True))\n",
    "    return reviews_clean"
   ]
  },
  {
   "cell_type": "code",
   "execution_count": 2,
   "id": "d3bef1c2",
   "metadata": {},
   "outputs": [],
   "source": [
    "def convert(reviews): # преобразование отзывов в строки\n",
    "    review_converted = []\n",
    "    for review in reviews:\n",
    "        for i in review:\n",
    "            map(str, i)\n",
    "        review = ''.join(review)\n",
    "        review_converted.append(review)\n",
    "    return review_converted\n",
    "def get_name(url): # получение имени фильма\n",
    "    r = requests.get(url, headers = headers)\n",
    "    soup = BeautifulSoup(r.text, 'html.parser')\n",
    "    name = soup.find(class_='alternativeHeadline')\n",
    "    name_clean = name.find_all(text = True)\n",
    "    # Сохранение первого элемента, т. к. извлекается также год фильма\n",
    "    return str(name_clean[0]) "
   ]
  },
  {
   "cell_type": "code",
   "execution_count": 4,
   "id": "2e9b8c3e",
   "metadata": {},
   "outputs": [],
   "source": [
    "def parsing(url, status, path):\n",
    "    page = 1\n",
    "    delays = [11, 12, 13, 11.5, 12.5, 13.5, 11.2, 12.3, 11.8]\n",
    "    name = get_name(url)\n",
    "    time.sleep(np.random.choice(delays)) # Выбор рандомной задержки\n",
    "    while True:\n",
    "        loaded_data = load_data(url + 'reviews/ord/date/status/{}/perpage/200/page/{}/'.format(status, page))\n",
    "        if loaded_data == []:\n",
    "            break\n",
    "        else:\n",
    "            # Eсли папок с классами не существует, программа их создаст\n",
    "            if not os.path.exists(path + r'\\{}'.format(status)):\n",
    "                os.makedirs(path + r'\\{}'.format(status))\n",
    "            converted_data = convert(loaded_data)\n",
    "            # Сохранение отзывов\n",
    "            for i, review in enumerate(converted_data):\n",
    "                with open(path + r'\\{}\\{}_{}_{}.txt'.format(status, name, page, i), 'w', encoding = 'utf-8') as output:\n",
    "                    output.write(review)\n",
    "            page += 1\n",
    "            time.sleep(np.random.choice(delays))"
   ]
  },
  {
   "cell_type": "code",
   "execution_count": null,
   "id": "77ec2099",
   "metadata": {},
   "outputs": [],
   "source": []
  }
 ],
 "metadata": {
  "kernelspec": {
   "display_name": "Python 3",
   "language": "python",
   "name": "python3"
  },
  "language_info": {
   "codemirror_mode": {
    "name": "ipython",
    "version": 3
   },
   "file_extension": ".py",
   "mimetype": "text/x-python",
   "name": "python",
   "nbconvert_exporter": "python",
   "pygments_lexer": "ipython3",
   "version": "3.8.5"
  }
 },
 "nbformat": 4,
 "nbformat_minor": 5
}
