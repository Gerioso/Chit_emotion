{
 "cells": [
  {
   "cell_type": "code",
   "execution_count": 32,
   "id": "25d8cec2",
   "metadata": {},
   "outputs": [],
   "source": [
    "from nltk.corpus import PlaintextCorpusReader\n",
    "from nltk.stem.snowball import SnowballStemmer\n",
    "from nltk.probability  import FreqDist\n",
    "from nltk.tokenize import RegexpTokenizer\n",
    "from nltk import bigrams\n",
    "from nltk import pos_tag\n",
    "from collections import OrderedDict\n",
    "from sklearn.metrics import classification_report, accuracy_score\n",
    "from sklearn.naive_bayes import MultinomialNB\n",
    "from sklearn.model_selection import GridSearchCV\n",
    "from sklearn.utils import shuffle\n",
    "from multiprocessing import Pool\n",
    "import numpy as np\n",
    "from scipy.sparse import csr_matrix"
   ]
  },
  {
   "cell_type": "code",
   "execution_count": 33,
   "id": "7ea8376c",
   "metadata": {},
   "outputs": [],
   "source": [
    "def lower_pos_tag(words):\n",
    "    lower_words = []\n",
    "    for i in words:\n",
    "        lower_words.append(i.lower())\n",
    "    pos_words = pos_tag(lower_words, lang='rus')\n",
    "    return pos_words"
   ]
  },
  {
   "cell_type": "code",
   "execution_count": 34,
   "id": "80fe02fe",
   "metadata": {},
   "outputs": [],
   "source": [
    "def clean(words):\n",
    "    stemmer = SnowballStemmer(\"russian\")\n",
    "    cleaned_words = []\n",
    "    for i in words:\n",
    "        if i[1] in ['S', 'A', 'V', 'ADV']:\n",
    "            cleaned_words.append(stemmer.stem(i[0]))\n",
    "    return cleaned_words"
   ]
  },
  {
   "cell_type": "code",
   "execution_count": 41,
   "id": "c2df9bab",
   "metadata": {},
   "outputs": [],
   "source": [
    "corpus_root = '/home/paul/develop/ITMO/Chit_emotion/data'# Путь к корпусу\n",
    "def process(label):\n",
    "    # Wordmatrix - список документов с лексемами\n",
    "    # All words - список всех слов\n",
    "    data = {'Word_matrix': [], 'All_words': []}\n",
    "    # Промежуточный список для удаления гапаксов\n",
    "    templist_allwords = []\n",
    "    # Определение пути к папке с определенным лейблом\n",
    "    corpus = PlaintextCorpusReader(corpus_root + '/' + label, '.*', encoding='utf-8')\n",
    "    # Получение списка имен файлов в корпусе\n",
    "    names = corpus.fileids()\n",
    "    # Создание токенайзера\n",
    "    tokenizer = RegexpTokenizer(r'\\w+|[^\\w\\s]+')\n",
    "    for i in range(len(names)): # Обработка корпуса\n",
    "        bag_words = tokenizer.tokenize(corpus.raw(names[i]))\n",
    "        lower_words = lower_pos_tag(bag_words)\n",
    "        cleaned_words = clean(lower_words)\n",
    "        finalist = list(bigrams(cleaned_words)) + cleaned_words\n",
    "        data['Word_matrix'].append(final_words)\n",
    "        templist_allwords.extend(cleaned_words)\n",
    "    # Определение гапаксов\n",
    "    templistfreq = FreqDist(templist_allwords)\n",
    "    hapaxes = templistfreq.hapaxes()\n",
    "    # Фильтрация от гапаксов\n",
    "    for word in templist_allwords:\n",
    "        if word not in hapaxes:\n",
    "            data['All_words'].append(word)\n",
    "    return {label: data}"
   ]
  },
  {
   "cell_type": "code",
   "execution_count": 42,
   "id": "ac988af2",
   "metadata": {},
   "outputs": [
    {
     "ename": "NameError",
     "evalue": "name 'final_words' is not defined",
     "output_type": "error",
     "traceback": [
      "\u001b[0;31m---------------------------------------------------------------------------\u001b[0m",
      "\u001b[0;31mRemoteTraceback\u001b[0m                           Traceback (most recent call last)",
      "\u001b[0;31mRemoteTraceback\u001b[0m: \n\"\"\"\nTraceback (most recent call last):\n  File \"/usr/lib/python3.8/multiprocessing/pool.py\", line 125, in worker\n    result = (True, func(*args, **kwds))\n  File \"/usr/lib/python3.8/multiprocessing/pool.py\", line 48, in mapstar\n    return list(map(*args))\n  File \"<ipython-input-41-fb1f49ff5f8c>\", line 19, in process\n    data['Word_matrix'].append(final_words)\nNameError: name 'final_words' is not defined\n\"\"\"",
      "\nThe above exception was the direct cause of the following exception:\n",
      "\u001b[0;31mNameError\u001b[0m                                 Traceback (most recent call last)",
      "\u001b[0;32m<ipython-input-42-33fb35511246>\u001b[0m in \u001b[0;36m<module>\u001b[0;34m\u001b[0m\n\u001b[1;32m      3\u001b[0m     \u001b[0mlabels\u001b[0m \u001b[0;34m=\u001b[0m \u001b[0;34m[\u001b[0m\u001b[0;34m'neutral'\u001b[0m\u001b[0;34m,\u001b[0m \u001b[0;34m'bad'\u001b[0m\u001b[0;34m,\u001b[0m \u001b[0;34m'good'\u001b[0m\u001b[0;34m]\u001b[0m\u001b[0;34m\u001b[0m\u001b[0;34m\u001b[0m\u001b[0m\n\u001b[1;32m      4\u001b[0m     \u001b[0mp\u001b[0m \u001b[0;34m=\u001b[0m \u001b[0mPool\u001b[0m\u001b[0;34m(\u001b[0m\u001b[0;36m3\u001b[0m\u001b[0;34m)\u001b[0m\u001b[0;34m\u001b[0m\u001b[0;34m\u001b[0m\u001b[0m\n\u001b[0;32m----> 5\u001b[0;31m     \u001b[0mresult\u001b[0m \u001b[0;34m=\u001b[0m \u001b[0mp\u001b[0m\u001b[0;34m.\u001b[0m\u001b[0mmap\u001b[0m\u001b[0;34m(\u001b[0m\u001b[0mprocess\u001b[0m\u001b[0;34m,\u001b[0m \u001b[0mlabels\u001b[0m\u001b[0;34m)\u001b[0m\u001b[0;34m\u001b[0m\u001b[0;34m\u001b[0m\u001b[0m\n\u001b[0m\u001b[1;32m      6\u001b[0m     \u001b[0;32mfor\u001b[0m \u001b[0mi\u001b[0m \u001b[0;32min\u001b[0m \u001b[0mresult\u001b[0m\u001b[0;34m:\u001b[0m\u001b[0;34m\u001b[0m\u001b[0;34m\u001b[0m\u001b[0m\n\u001b[1;32m      7\u001b[0m         \u001b[0mdata\u001b[0m\u001b[0;34m.\u001b[0m\u001b[0mupdate\u001b[0m\u001b[0;34m(\u001b[0m\u001b[0mi\u001b[0m\u001b[0;34m)\u001b[0m\u001b[0;34m\u001b[0m\u001b[0;34m\u001b[0m\u001b[0m\n",
      "\u001b[0;32m/usr/lib/python3.8/multiprocessing/pool.py\u001b[0m in \u001b[0;36mmap\u001b[0;34m(self, func, iterable, chunksize)\u001b[0m\n\u001b[1;32m    362\u001b[0m         \u001b[0;32min\u001b[0m \u001b[0ma\u001b[0m \u001b[0mlist\u001b[0m \u001b[0mthat\u001b[0m \u001b[0;32mis\u001b[0m \u001b[0mreturned\u001b[0m\u001b[0;34m.\u001b[0m\u001b[0;34m\u001b[0m\u001b[0;34m\u001b[0m\u001b[0m\n\u001b[1;32m    363\u001b[0m         '''\n\u001b[0;32m--> 364\u001b[0;31m         \u001b[0;32mreturn\u001b[0m \u001b[0mself\u001b[0m\u001b[0;34m.\u001b[0m\u001b[0m_map_async\u001b[0m\u001b[0;34m(\u001b[0m\u001b[0mfunc\u001b[0m\u001b[0;34m,\u001b[0m \u001b[0miterable\u001b[0m\u001b[0;34m,\u001b[0m \u001b[0mmapstar\u001b[0m\u001b[0;34m,\u001b[0m \u001b[0mchunksize\u001b[0m\u001b[0;34m)\u001b[0m\u001b[0;34m.\u001b[0m\u001b[0mget\u001b[0m\u001b[0;34m(\u001b[0m\u001b[0;34m)\u001b[0m\u001b[0;34m\u001b[0m\u001b[0;34m\u001b[0m\u001b[0m\n\u001b[0m\u001b[1;32m    365\u001b[0m \u001b[0;34m\u001b[0m\u001b[0m\n\u001b[1;32m    366\u001b[0m     \u001b[0;32mdef\u001b[0m \u001b[0mstarmap\u001b[0m\u001b[0;34m(\u001b[0m\u001b[0mself\u001b[0m\u001b[0;34m,\u001b[0m \u001b[0mfunc\u001b[0m\u001b[0;34m,\u001b[0m \u001b[0miterable\u001b[0m\u001b[0;34m,\u001b[0m \u001b[0mchunksize\u001b[0m\u001b[0;34m=\u001b[0m\u001b[0;32mNone\u001b[0m\u001b[0;34m)\u001b[0m\u001b[0;34m:\u001b[0m\u001b[0;34m\u001b[0m\u001b[0;34m\u001b[0m\u001b[0m\n",
      "\u001b[0;32m/usr/lib/python3.8/multiprocessing/pool.py\u001b[0m in \u001b[0;36mget\u001b[0;34m(self, timeout)\u001b[0m\n\u001b[1;32m    769\u001b[0m             \u001b[0;32mreturn\u001b[0m \u001b[0mself\u001b[0m\u001b[0;34m.\u001b[0m\u001b[0m_value\u001b[0m\u001b[0;34m\u001b[0m\u001b[0;34m\u001b[0m\u001b[0m\n\u001b[1;32m    770\u001b[0m         \u001b[0;32melse\u001b[0m\u001b[0;34m:\u001b[0m\u001b[0;34m\u001b[0m\u001b[0;34m\u001b[0m\u001b[0m\n\u001b[0;32m--> 771\u001b[0;31m             \u001b[0;32mraise\u001b[0m \u001b[0mself\u001b[0m\u001b[0;34m.\u001b[0m\u001b[0m_value\u001b[0m\u001b[0;34m\u001b[0m\u001b[0;34m\u001b[0m\u001b[0m\n\u001b[0m\u001b[1;32m    772\u001b[0m \u001b[0;34m\u001b[0m\u001b[0m\n\u001b[1;32m    773\u001b[0m     \u001b[0;32mdef\u001b[0m \u001b[0m_set\u001b[0m\u001b[0;34m(\u001b[0m\u001b[0mself\u001b[0m\u001b[0;34m,\u001b[0m \u001b[0mi\u001b[0m\u001b[0;34m,\u001b[0m \u001b[0mobj\u001b[0m\u001b[0;34m)\u001b[0m\u001b[0;34m:\u001b[0m\u001b[0;34m\u001b[0m\u001b[0;34m\u001b[0m\u001b[0m\n",
      "\u001b[0;31mNameError\u001b[0m: name 'final_words' is not defined"
     ]
    }
   ],
   "source": [
    "if __name__ == '__main__':\n",
    "    data = {}\n",
    "    labels = ['neutral', 'bad', 'good']\n",
    "    p = Pool(3)\n",
    "    result = p.map(process, labels)\n",
    "    for i in result:\n",
    "        data.update(i)\n",
    "    p.close()"
   ]
  },
  {
   "cell_type": "code",
   "execution_count": 38,
   "id": "6ed6bcff",
   "metadata": {},
   "outputs": [
    {
     "ename": "SyntaxError",
     "evalue": "invalid syntax (<ipython-input-38-4f362e82efe7>, line 13)",
     "output_type": "error",
     "traceback": [
      "\u001b[0;36m  File \u001b[0;32m\"<ipython-input-38-4f362e82efe7>\"\u001b[0;36m, line \u001b[0;32m13\u001b[0m\n\u001b[0;31m    common_words = frequency.most_common(10000)\u001b[0m\n\u001b[0m    ^\u001b[0m\n\u001b[0;31mSyntaxError\u001b[0m\u001b[0;31m:\u001b[0m invalid syntax\n"
     ]
    }
   ],
   "source": [
    "# Создание помеченный данных со структурой:\n",
    "# [([список слов отзыва], метка_класса)]\n",
    "labels = ['neutral', 'bad', 'good']\n",
    "labeled_data = []\n",
    "for label in labels:\n",
    "    for document in data[label]['Word_matrix']:\n",
    "        labeled_data.append((document, label))\n",
    "\n",
    "# Создание вокабуляра с уникальными лексемами\n",
    "all_words = [] \n",
    "for label in labels:\n",
    "    frequency = FreqDist(data[label]['All_words']\n",
    "    common_words = frequency.most_common(10000)\n",
    "    words = [i[0] for i in common_words]\n",
    "    all_words.extend(words)\n",
    "# Извлечение уникальных лексем\n",
    "unique_words = list(OrderedDict.fromkeys(all_words))"
   ]
  }
 ],
 "metadata": {
  "kernelspec": {
   "display_name": "Python 3",
   "language": "python",
   "name": "python3"
  },
  "language_info": {
   "codemirror_mode": {
    "name": "ipython",
    "version": 3
   },
   "file_extension": ".py",
   "mimetype": "text/x-python",
   "name": "python",
   "nbconvert_exporter": "python",
   "pygments_lexer": "ipython3",
   "version": "3.8.5"
  }
 },
 "nbformat": 4,
 "nbformat_minor": 5
}
