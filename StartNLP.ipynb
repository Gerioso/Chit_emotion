{
 "cells": [
  {
   "cell_type": "code",
   "execution_count": 65,
   "id": "5b86cb45",
   "metadata": {
    "scrolled": true
   },
   "outputs": [
    {
     "name": "stdout",
     "output_type": "stream",
     "text": [
      "One of the other reviewers has mentioned that after watching just 1 Oz episode you'll be hooked.\n",
      "\n",
      "They are right, as this is exactly what happened with me.<br /><br />The first thing that struck me about Oz was its brutality and unflinching scenes of violence, which set in right from the word GO.\n",
      "\n"
     ]
    }
   ],
   "source": [
    "import nltk\n",
    "text =\"One of the other reviewers has mentioned that after watching just 1 Oz episode you'll be hooked. They are right, as this is exactly what happened with me.<br /><br />The first thing that struck me about Oz was its brutality and unflinching scenes of violence, which set in right from the word GO.\"\n",
    "sentences = nltk.sent_tokenize(text)\n",
    "for sentence in sentences:\n",
    "    print(sentence)\n",
    "    print()"
   ]
  },
  {
   "cell_type": "code",
   "execution_count": 55,
   "id": "d9d7f7a6",
   "metadata": {},
   "outputs": [
    {
     "name": "stdout",
     "output_type": "stream",
     "text": [
      "['One', 'of', 'the', 'other', 'reviewers', 'has', 'mentioned', 'that', 'after', 'watching', 'just', '1', 'Oz', 'episode', 'you', \"'ll\", 'be', 'hooked', '.']\n",
      "\n",
      "['They', 'are', 'right', ',', 'as', 'this', 'is', 'exactly', 'what', 'happened', 'with', 'me.', '<', 'br', '/', '>', '<', 'br', '/', '>', 'The', 'first', 'thing', 'that', 'struck', 'me', 'about', 'Oz', 'was', 'its', 'brutality', 'and', 'unflinching', 'scenes', 'of', 'violence', ',', 'which', 'set', 'in', 'right', 'from', 'the', 'word', 'GO', '.']\n",
      "\n"
     ]
    }
   ],
   "source": [
    "for sentence in sentences:\n",
    "    words = nltk.word_tokenize(sentence)\n",
    "    print(words)\n",
    "    print()"
   ]
  },
  {
   "cell_type": "code",
   "execution_count": 71,
   "id": "cb815840",
   "metadata": {
    "scrolled": true
   },
   "outputs": [
    {
     "name": "stdout",
     "output_type": "stream",
     "text": [
      "They are right, as this is exactly what happened with me.<br /><br />The first thing that struck me about Oz was its brutality and unflinching scenes of violence, which set in right from the word GO.\n",
      "They are right, as this is exactly what happened with me.The first thing that struck me about Oz was its brutality and unflinching scenes of violence, which set in right from the word GO.\n",
      "['They', 'are', 'right', ',', 'as', 'this', 'is', 'exactly', 'what', 'happened', 'with', 'me.The', 'first', 'thing', 'that', 'struck', 'me', 'about', 'Oz', 'was', 'its', 'brutality', 'and', 'unflinching', 'scenes', 'of', 'violence', ',', 'which', 'set', 'in', 'right', 'from', 'the', 'word', 'GO', '.']\n"
     ]
    }
   ],
   "source": [
    "import re\n",
    "print(sentence)\n",
    "clean = re.compile('<.*?>')\n",
    "cleartext = re.sub(clean, '', sentence)\n",
    "print(cleartext)\n",
    "words = nltk.word_tokenize(cleartext)\n",
    "print(words)"
   ]
  },
  {
   "cell_type": "code",
   "execution_count": 68,
   "id": "ec3ed819",
   "metadata": {
    "scrolled": true
   },
   "outputs": [
    {
     "name": "stdout",
     "output_type": "stream",
     "text": [
      "['They', 'right', ',', 'exactly', 'happened', 'me.The', 'first', 'thing', 'struck', 'Oz', 'brutality', 'unflinching', 'scenes', 'violence', ',', 'set', 'right', 'word', 'GO', '.']\n"
     ]
    }
   ],
   "source": [
    "from nltk.corpus import stopwords\n",
    "stop_words = set(stopwords.words(\"english\"))\n",
    "without_stop_words = [word for word in words if not word in stop_words]\n",
    "print(without_stop_words)"
   ]
  },
  {
   "cell_type": "code",
   "execution_count": 72,
   "id": "fd2b89be",
   "metadata": {},
   "outputs": [
    {
     "name": "stdout",
     "output_type": "stream",
     "text": [
      "Stemmer: They  :  they\n",
      "Stemmer: right  :  right\n",
      "Stemmer: ,  :  ,\n",
      "Stemmer: exactly  :  exactli\n",
      "Stemmer: happened  :  happen\n",
      "Stemmer: me.The  :  me.th\n",
      "Stemmer: first  :  first\n",
      "Stemmer: thing  :  thing\n",
      "Stemmer: struck  :  struck\n",
      "Stemmer: Oz  :  oz\n",
      "Stemmer: brutality  :  brutal\n",
      "Stemmer: unflinching  :  unflinch\n",
      "Stemmer: scenes  :  scene\n",
      "Stemmer: violence  :  violenc\n",
      "Stemmer: ,  :  ,\n",
      "Stemmer: set  :  set\n",
      "Stemmer: right  :  right\n",
      "Stemmer: word  :  word\n",
      "Stemmer: GO  :  go\n",
      "Stemmer: .  :  .\n",
      "Lemmatizer: They  :  They\n",
      "Lemmatizer: right  :  right\n",
      "Lemmatizer: ,  :  ,\n",
      "Lemmatizer: exactly  :  exactly\n",
      "Lemmatizer: happened  :  happened\n",
      "Lemmatizer: me.The  :  me.The\n",
      "Lemmatizer: first  :  first\n",
      "Lemmatizer: thing  :  thing\n",
      "Lemmatizer: struck  :  struck\n",
      "Lemmatizer: Oz  :  Oz\n",
      "Lemmatizer: brutality  :  brutality\n",
      "Lemmatizer: unflinching  :  unflinching\n",
      "Lemmatizer: scenes  :  scene\n",
      "Lemmatizer: violence  :  violence\n",
      "Lemmatizer: ,  :  ,\n",
      "Lemmatizer: set  :  set\n",
      "Lemmatizer: right  :  right\n",
      "Lemmatizer: word  :  word\n",
      "Lemmatizer: GO  :  GO\n",
      "Lemmatizer: .  :  .\n"
     ]
    }
   ],
   "source": [
    "from nltk.stem import PorterStemmer, WordNetLemmatizer\n",
    "from nltk.corpus import wordnet\n",
    "\n",
    "lemmatizer = WordNetLemmatizer()\n",
    "stemmer = PorterStemmer()\n",
    "\"\"\"\n",
    "    Print the results of stemmind and lemmitization using the passed stemmer, lemmatizer, word and pos (part of speech)\n",
    "\"\"\"\n",
    "for w in without_stop_words:\n",
    "    print(\"Stemmer:\",w, \" : \", stemmer.stem(w))\n",
    "for w in without_stop_words:\n",
    "    print(\"Lemmatizer:\", w, \" : \", lemmatizer.lemmatize(w))\n",
    "\n"
   ]
  },
  {
   "cell_type": "code",
   "execution_count": null,
   "id": "1dca31eb",
   "metadata": {},
   "outputs": [],
   "source": []
  }
 ],
 "metadata": {
  "kernelspec": {
   "display_name": "Python 3",
   "language": "python",
   "name": "python3"
  },
  "language_info": {
   "codemirror_mode": {
    "name": "ipython",
    "version": 3
   },
   "file_extension": ".py",
   "mimetype": "text/x-python",
   "name": "python",
   "nbconvert_exporter": "python",
   "pygments_lexer": "ipython3",
   "version": "3.8.5"
  }
 },
 "nbformat": 4,
 "nbformat_minor": 5
}
