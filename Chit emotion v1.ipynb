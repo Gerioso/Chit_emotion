{
 "cells": [
  {
   "cell_type": "code",
   "execution_count": 1,
   "id": "5568b470",
   "metadata": {},
   "outputs": [
    {
     "name": "stdout",
     "output_type": "stream",
     "text": [
      "Python is so easy!\n"
     ]
    }
   ],
   "source": [
    "print(\"Python is so easy!\")"
   ]
  },
  {
   "cell_type": "code",
   "execution_count": 2,
   "id": "3a49ef00",
   "metadata": {
    "scrolled": true
   },
   "outputs": [
    {
     "ename": "SyntaxError",
     "evalue": "invalid syntax (<ipython-input-2-694bb7a83394>, line 1)",
     "output_type": "error",
     "traceback": [
      "\u001b[0;36m  File \u001b[0;32m\"<ipython-input-2-694bb7a83394>\"\u001b[0;36m, line \u001b[0;32m1\u001b[0m\n\u001b[0;31m    print(\"Checked 2\")dd\u001b[0m\n\u001b[0m                      ^\u001b[0m\n\u001b[0;31mSyntaxError\u001b[0m\u001b[0;31m:\u001b[0m invalid syntax\n"
     ]
    }
   ],
   "source": [
    "print(\"Checked 2\")dd"
   ]
  },
  {
   "cell_type": "markdown",
   "id": "35d00ed8",
   "metadata": {},
   "source": [
    "# This is a level 1 heading\n",
    "## This is a level 2 heading\n",
    "This is some plain text that forms a paragraph.\n",
    "Add emphasis via **bold** and __bold__, or *italic* and _italic_.Paragraphs must be separated by an empty line.* Sometimes we want to include lists.\n",
    " * Which can be indented.1. Lists can also be numbered.\n",
    "2. For ordered lists.[It is possible to include hyperlinks](https://www.example.com)Inline code uses single backticks: `foo()`, and code blocks use triple backticks:```\n",
    "bar()\n",
    "```\n",
    "\n",
    "Or can be intented by 4 spaces:\n",
    "\n",
    "    foo()\n",
    "\n",
    "And finally, adding images is easy: ![Alt text](https://timesofindia.indiatimes.com/photo/67586673.cms)"
   ]
  },
  {
   "cell_type": "code",
   "execution_count": null,
   "id": "28873b49",
   "metadata": {},
   "outputs": [],
   "source": [
    "import time\n",
    "time.sleep(3)"
   ]
  },
  {
   "cell_type": "code",
   "execution_count": 3,
   "id": "cec282af",
   "metadata": {},
   "outputs": [],
   "source": [
    "import numpy as np\n",
    "\n",
    "def square(x):\n",
    "    return x * x"
   ]
  },
  {
   "cell_type": "code",
   "execution_count": 4,
   "id": "6715243c",
   "metadata": {},
   "outputs": [
    {
     "name": "stdout",
     "output_type": "stream",
     "text": [
      "4 squared is 16\n"
     ]
    }
   ],
   "source": [
    "x = np.random.randint(1, 10)\n",
    "y = square(x)\n",
    "\n",
    "print('%d squared is %d' % (x, y))"
   ]
  },
  {
   "cell_type": "code",
   "execution_count": 7,
   "id": "bccf206c",
   "metadata": {},
   "outputs": [
    {
     "name": "stdout",
     "output_type": "stream",
     "text": [
      "Is 4 squared is 10?\n"
     ]
    }
   ],
   "source": [
    "print('Is %d squared is %d?' % (x, y))\n"
   ]
  },
  {
   "cell_type": "code",
   "execution_count": 6,
   "id": "8520f4a9",
   "metadata": {},
   "outputs": [],
   "source": [
    "y = 10"
   ]
  }
 ],
 "metadata": {
  "kernelspec": {
   "display_name": "Python 3",
   "language": "python",
   "name": "python3"
  },
  "language_info": {
   "codemirror_mode": {
    "name": "ipython",
    "version": 3
   },
   "file_extension": ".py",
   "mimetype": "text/x-python",
   "name": "python",
   "nbconvert_exporter": "python",
   "pygments_lexer": "ipython3",
   "version": "3.8.5"
  }
 },
 "nbformat": 4,
 "nbformat_minor": 5
}
